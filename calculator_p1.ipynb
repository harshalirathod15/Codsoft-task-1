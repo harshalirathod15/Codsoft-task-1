{
  "nbformat": 4,
  "nbformat_minor": 0,
  "metadata": {
    "colab": {
      "provenance": [],
      "toc_visible": true
    },
    "kernelspec": {
      "name": "python3",
      "display_name": "Python 3"
    },
    "language_info": {
      "name": "python"
    }
  },
  "cells": [
    {
      "cell_type": "code",
      "execution_count": null,
      "metadata": {
        "colab": {
          "base_uri": "https://localhost:8080/"
        },
        "id": "E8angO_0Cg8T",
        "outputId": "a2935934-d387-4c6e-8050-ad65a38a50af"
      },
      "outputs": [
        {
          "output_type": "stream",
          "name": "stdout",
          "text": [
            "Select Operations\n",
            "1. Addition 2.Subtraction 3. Multiplication 4. Division\n"
          ]
        }
      ],
      "source": [
        "#Calculator Program in python by defining operations\n",
        "\n",
        "# Define Operators or Functions: Addition, Subtraction, Multiplication, and Division\n",
        "\n",
        "# Addition\n",
        "\n",
        "def addition(n1,n2):\n",
        "  return n1+n2\n",
        "\n",
        "# Subtraction\n",
        "\n",
        "def subtraction(n1,n2):\n",
        "  return n1 - n2\n",
        "\n",
        "# Multiplication\n",
        "\n",
        "def multiplication(n1,n2):\n",
        "  return n1 * n2\n",
        "\n",
        "# Division\n",
        "\n",
        "def division(n1,n2):\n",
        "  return n1 / n2\n",
        "\n",
        "\n",
        "print(\"Select Operations\")\n",
        "print(\"1. Addition\",\n",
        "\"2.Subtraction\",\n",
        "\"3. Multiplication\",\n",
        "\"4. Division\")\n",
        "\n",
        "# Giving the option to the user to choose the operation\n",
        "\n",
        "operation = int(input(\"Enter choice of operation 1/2/3/4: \"))\n",
        "\n",
        "\n",
        "#Taking Input from the Users\n",
        "\n",
        "n1 = float(input(\"Enter the First Number: \"))\n",
        "n2 = float(input(\"Enter the Second Number: \"))\n",
        "\n",
        "\n",
        "# Apply Conditional Statements: To make operation as-per-user choices\n",
        "\n",
        "if operation == 1:\n",
        " print (n1, \"+\", n2,\"=\", addition(n1,   n2))\n",
        "\n",
        "elif operation == 2:\n",
        "       print (n1,\"-\", n2, \"=\", subtraction(n1, n2))\n",
        "\n",
        "elif operation ==3:\n",
        " print (n1, \"*\", n2, \"=\", multiplication(n1, n2))\n",
        "\n",
        "elif operation == 4:\n",
        " print (n1, \"/\", n2, \"=\", division(n1, n2))\n",
        "\n",
        "else:\n",
        "       print(\"Invalid Input\")"
      ]
    }
  ]
}